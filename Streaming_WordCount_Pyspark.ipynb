{
 "cells": [
  {
   "cell_type": "code",
   "execution_count": 1,
   "metadata": {},
   "outputs": [],
   "source": [
    "import findspark"
   ]
  },
  {
   "cell_type": "code",
   "execution_count": 2,
   "metadata": {},
   "outputs": [],
   "source": [
    "findspark.init('/usr/local/spark')"
   ]
  },
  {
   "cell_type": "code",
   "execution_count": 3,
   "metadata": {},
   "outputs": [],
   "source": [
    "from pyspark.sql import SparkSession"
   ]
  },
  {
   "cell_type": "code",
   "execution_count": 4,
   "metadata": {},
   "outputs": [],
   "source": [
    "from pyspark.sql.functions import col"
   ]
  },
  {
   "cell_type": "code",
   "execution_count": 26,
   "metadata": {},
   "outputs": [],
   "source": [
    "from pyspark.sql.functions import split , explode , count"
   ]
  },
  {
   "cell_type": "code",
   "execution_count": 29,
   "metadata": {},
   "outputs": [],
   "source": [
    "spark = SparkSession.builder.appName(\"Pyspark Streaming Testing\").getOrCreate()"
   ]
  },
  {
   "cell_type": "code",
   "execution_count": 9,
   "metadata": {},
   "outputs": [
    {
     "name": "stdout",
     "output_type": "stream",
     "text": [
      "+-----------------------+\n",
      "|_c0                    |\n",
      "+-----------------------+\n",
      "|John John Jason Aaron  |\n",
      "|Smith Ben Ben Robinson |\n",
      "|Jacob Jacob Jacob Jacob|\n",
      "+-----------------------+\n",
      "\n"
     ]
    }
   ],
   "source": [
    "myDf = spark.read.format('csv').load('pyspark_test.txt')\n",
    "myDf.show(truncate=False)"
   ]
  },
  {
   "cell_type": "code",
   "execution_count": 10,
   "metadata": {},
   "outputs": [],
   "source": [
    "myDf = myDf.withColumnRenamed('_c0','Value')"
   ]
  },
  {
   "cell_type": "code",
   "execution_count": 13,
   "metadata": {},
   "outputs": [
    {
     "name": "stdout",
     "output_type": "stream",
     "text": [
      "+-----------------------+\n",
      "|Value                  |\n",
      "+-----------------------+\n",
      "|John John Jason Aaron  |\n",
      "|Smith Ben Ben Robinson |\n",
      "|Jacob Jacob Jacob Jacob|\n",
      "+-----------------------+\n",
      "\n"
     ]
    }
   ],
   "source": [
    "myDf.show(truncate=False)"
   ]
  },
  {
   "cell_type": "code",
   "execution_count": 16,
   "metadata": {},
   "outputs": [
    {
     "name": "stdout",
     "output_type": "stream",
     "text": [
      "+----------------------------+\n",
      "|Value                       |\n",
      "+----------------------------+\n",
      "|[John, John, Jason, Aaron]  |\n",
      "|[Smith, Ben, Ben, Robinson] |\n",
      "|[Jacob, Jacob, Jacob, Jacob]|\n",
      "+----------------------------+\n",
      "\n"
     ]
    }
   ],
   "source": [
    "splitDf =myDf.select(split('Value',\" \").alias('Value'))\n",
    "splitDf.show(truncate=False)"
   ]
  },
  {
   "cell_type": "code",
   "execution_count": 22,
   "metadata": {},
   "outputs": [
    {
     "name": "stdout",
     "output_type": "stream",
     "text": [
      "+--------+\n",
      "|Value   |\n",
      "+--------+\n",
      "|John    |\n",
      "|John    |\n",
      "|Jason   |\n",
      "|Aaron   |\n",
      "|Smith   |\n",
      "|Ben     |\n",
      "|Ben     |\n",
      "|Robinson|\n",
      "|Jacob   |\n",
      "|Jacob   |\n",
      "|Jacob   |\n",
      "|Jacob   |\n",
      "+--------+\n",
      "\n"
     ]
    }
   ],
   "source": [
    "flattenedDF = splitDf.select(explode('Value').alias('Value'))\n",
    "flattenedDF.show(truncate=False)"
   ]
  },
  {
   "cell_type": "code",
   "execution_count": 27,
   "metadata": {},
   "outputs": [],
   "source": [
    "WordCountDf = flattenedDF.groupby('Value').agg(count('*').alias('count'))"
   ]
  },
  {
   "cell_type": "code",
   "execution_count": 28,
   "metadata": {},
   "outputs": [
    {
     "name": "stdout",
     "output_type": "stream",
     "text": [
      "+--------+-----+\n",
      "|Value   |count|\n",
      "+--------+-----+\n",
      "|Jason   |1    |\n",
      "|Smith   |1    |\n",
      "|Jacob   |4    |\n",
      "|Robinson|1    |\n",
      "|John    |2    |\n",
      "|Ben     |2    |\n",
      "|Aaron   |1    |\n",
      "+--------+-----+\n",
      "\n"
     ]
    }
   ],
   "source": [
    "WordCountDf.show(truncate=False)"
   ]
  }
 ],
 "metadata": {
  "kernelspec": {
   "display_name": "Python 3",
   "language": "python",
   "name": "python3"
  },
  "language_info": {
   "codemirror_mode": {
    "name": "ipython",
    "version": 3
   },
   "file_extension": ".py",
   "mimetype": "text/x-python",
   "name": "python",
   "nbconvert_exporter": "python",
   "pygments_lexer": "ipython3",
   "version": "3.5.2"
  }
 },
 "nbformat": 4,
 "nbformat_minor": 2
}
